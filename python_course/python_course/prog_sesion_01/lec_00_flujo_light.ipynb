{
 "cells": [
  {
   "cell_type": "markdown",
   "metadata": {},
   "source": [
    "# Control del Flujo"
   ]
  },
  {
   "cell_type": "markdown",
   "metadata": {},
   "source": [
    "## `if elif else`"
   ]
  },
  {
   "cell_type": "code",
   "execution_count": null,
   "metadata": {},
   "outputs": [],
   "source": [
    "var1 = 100\n",
    "#var1 = 0"
   ]
  },
  {
   "cell_type": "code",
   "execution_count": null,
   "metadata": {},
   "outputs": [],
   "source": [
    "if var1: # equivale a if var1 != 0:\n",
    "    print(\"1 - la variable NO tiene valor nulo\")\n",
    "else:\n",
    "    print('1 - la variable tiene valor nulo')\n",
    "print(var1)\n",
    "print('Adiós')"
   ]
  },
  {
   "cell_type": "code",
   "execution_count": null,
   "metadata": {},
   "outputs": [],
   "source": [
    "# temperatura = int(float(input(\"¿Cuál es la temperatura (en Farenheit)? \")))\n",
    "temperatura = float(input(\"¿Cuál es la temperatura (en Farenheit)? \"))\n",
    "\n",
    "if 60 < temperatura <= 80: # equivalente a 'if temperatura > 60 and temperatura <= 80:'\n",
    "    print(\"Hace calor fuera\")\n",
    "elif temperatura > 80:\n",
    "    print(\"¡Casi prodemos freir un huevo en el asfalto!\")\n",
    "elif temperatura < 0:\n",
    "    print(\"Hace frío fuera\")\n",
    "else:\n",
    "    print(\"Se está bien fuera\")\n",
    "print(\"Hecho\")"
   ]
  },
  {
   "cell_type": "markdown",
   "metadata": {},
   "source": [
    "## `for`"
   ]
  },
  {
   "cell_type": "code",
   "execution_count": null,
   "metadata": {},
   "outputs": [],
   "source": [
    "for letra in 'Python':\n",
    "    print('Actualmente letra es: ', letra)"
   ]
  },
  {
   "cell_type": "code",
   "execution_count": null,
   "metadata": {},
   "outputs": [],
   "source": [
    "frutas = ['banana','manzana','mango',1]"
   ]
  },
  {
   "cell_type": "code",
   "execution_count": null,
   "metadata": {},
   "outputs": [],
   "source": [
    "for fruta in frutas:\n",
    "    print('actualmente fruta es: ', fruta)"
   ]
  },
  {
   "cell_type": "markdown",
   "metadata": {},
   "source": [
    "la siguiente es una forma de reocrreor una lista, pero es mal estilo"
   ]
  },
  {
   "cell_type": "code",
   "execution_count": null,
   "metadata": {},
   "outputs": [],
   "source": [
    "for i in range(len(frutas)):\n",
    "    print('Actualmente fruta es: ', frutas[i])\n",
    "print('Adiós')"
   ]
  },
  {
   "cell_type": "code",
   "execution_count": null,
   "metadata": {},
   "outputs": [],
   "source": [
    "for i in range(1,5):\n",
    "    for j in range(0,i):\n",
    "        print(i)\n",
    "    print(\"\\n\")"
   ]
  },
  {
   "cell_type": "code",
   "execution_count": null,
   "metadata": {},
   "outputs": [],
   "source": [
    "'0'*10"
   ]
  },
  {
   "cell_type": "code",
   "execution_count": null,
   "metadata": {},
   "outputs": [],
   "source": [
    "for i in range(0,10):\n",
    "    print (str(i)*i)"
   ]
  },
  {
   "cell_type": "code",
   "execution_count": null,
   "metadata": {},
   "outputs": [],
   "source": [
    "from math import sqrt"
   ]
  },
  {
   "cell_type": "code",
   "execution_count": null,
   "metadata": {},
   "outputs": [],
   "source": [
    "n = int(input(\"¿número máximo? \"))\n",
    "for a in range(1,n+1):\n",
    "    for b in range(a,n):\n",
    "        c_square = a**2 + b**2\n",
    "        c = int(sqrt(c_square))\n",
    "        if ((c_square - c**2) == 0):\n",
    "            print(a, b, c)"
   ]
  },
  {
   "cell_type": "markdown",
   "metadata": {},
   "source": [
    "## `while`"
   ]
  },
  {
   "cell_type": "markdown",
   "metadata": {},
   "source": [
    "#### mal estilo"
   ]
  },
  {
   "cell_type": "code",
   "execution_count": null,
   "metadata": {},
   "outputs": [],
   "source": [
    "i = 1\n",
    "j = 1\n",
    "n = 4\n",
    "while j <= n:\n",
    "    i = i * j\n",
    "    j = j + 1\n",
    "print(i)"
   ]
  },
  {
   "cell_type": "markdown",
   "metadata": {},
   "source": [
    "#### algo mejor"
   ]
  },
  {
   "cell_type": "code",
   "execution_count": null,
   "metadata": {},
   "outputs": [],
   "source": [
    "i, j, n = 1, 1, 4\n",
    "while j <= n:\n",
    "    i *= j\n",
    "    j += 1\n",
    "print(i)"
   ]
  },
  {
   "cell_type": "markdown",
   "metadata": {},
   "source": [
    "El orden de las órdenes altera el programa"
   ]
  },
  {
   "cell_type": "code",
   "execution_count": null,
   "metadata": {},
   "outputs": [],
   "source": [
    "i, j, n = 1, 1, 4\n",
    "while j <= n:\n",
    "    i *= j\n",
    "    print(i)\n",
    "    j += 1\n"
   ]
  },
  {
   "cell_type": "code",
   "execution_count": null,
   "metadata": {},
   "outputs": [],
   "source": [
    "contador = 0\n",
    "while contador < 5:\n",
    "   print(contador, ' es menor que 5')\n",
    "   contador += 1\n",
    "else:\n",
    "   print(contador, ' no es menor que 5')"
   ]
  },
  {
   "cell_type": "code",
   "execution_count": null,
   "metadata": {},
   "outputs": [],
   "source": [
    "from itertools import takewhile\n",
    "from math import sqrt"
   ]
  },
  {
   "cell_type": "markdown",
   "metadata": {},
   "source": [
    "Lo que sigue contiene una simulación de una suerte de `takeuntil`"
   ]
  },
  {
   "cell_type": "code",
   "execution_count": null,
   "metadata": {},
   "outputs": [],
   "source": [
    "i = 2\n",
    "while i < 100:\n",
    "    c = range(2,int(sqrt(i))+1)\n",
    "    x = takewhile(lambda j: i%j != 0,c) # tomamos elementos de c mientras que no dividan a i\n",
    "    y = list(x)\n",
    "    z = len(y)\n",
    "    if z == len(c):\n",
    "        print(i,' es primo')\n",
    "    else:\n",
    "        div = c[z]\n",
    "        print('{0} es igual a {1} * {2}.'.format(i,div,i//div))\n",
    "    i += 1\n",
    "print('¡Adiós!')"
   ]
  },
  {
   "cell_type": "markdown",
   "metadata": {},
   "source": [
    "Es posible un bucle que no se detenga \"jamás\""
   ]
  },
  {
   "cell_type": "code",
   "execution_count": null,
   "metadata": {},
   "outputs": [],
   "source": [
    "var = 1\n",
    "while var == 1 :  # This constructs an infinite loop\n",
    "   num = input(\"Introduzca un número  :\")\n",
    "   print('Usted ha introducido el número: ', num)\n",
    "print(\"¡Adiós!\")"
   ]
  },
  {
   "cell_type": "markdown",
   "metadata": {},
   "source": [
    "## `NoneType`"
   ]
  },
  {
   "cell_type": "code",
   "execution_count": null,
   "metadata": {},
   "outputs": [],
   "source": [
    "obj = None"
   ]
  },
  {
   "cell_type": "code",
   "execution_count": null,
   "metadata": {},
   "outputs": [],
   "source": [
    "type(obj)"
   ]
  },
  {
   "cell_type": "markdown",
   "metadata": {},
   "source": [
    "`NoneType` es en `Python` el tipo de dato del objeto `None`, que es un objeto que indica \"ausencia de valor\". `None` es el valor elevado por las funciones cuando no alcanzan a devolver. También es un valor elevado comunmente por las funciones que buscan algo y pueden o no encontrarlo, por ejemplo: \n",
    "\n",
    "* es devuelto por `re.search` cuando su expresión regular no casa.\n",
    "* es devuelto por `dict.get` en `dict.get(k)` cuando `k` no es clave en el diccionario `dict`.\n",
    "\n",
    "No se puede agregar `None` a cadenas u otros objetos."
   ]
  },
  {
   "cell_type": "code",
   "execution_count": null,
   "metadata": {},
   "outputs": [],
   "source": [
    "dict={1:'a',2:'b'}"
   ]
  },
  {
   "cell_type": "code",
   "execution_count": null,
   "metadata": {},
   "outputs": [],
   "source": [
    "dict.get(3)"
   ]
  },
  {
   "cell_type": "code",
   "execution_count": null,
   "metadata": {},
   "outputs": [],
   "source": [
    "type(dict.get(3))"
   ]
  },
  {
   "cell_type": "code",
   "execution_count": null,
   "metadata": {},
   "outputs": [],
   "source": [
    "foo, bar = 'algo', None"
   ]
  },
  {
   "cell_type": "code",
   "execution_count": null,
   "metadata": {},
   "outputs": [],
   "source": [
    "strn = foo + bar"
   ]
  },
  {
   "cell_type": "code",
   "execution_count": null,
   "metadata": {},
   "outputs": [],
   "source": [
    "obj = None\n",
    "if obj is None:\n",
    "    print('obj tiene el valor', None)"
   ]
  },
  {
   "cell_type": "code",
   "execution_count": null,
   "metadata": {},
   "outputs": [],
   "source": [
    "obj = 5\n",
    "if obj is None:\n",
    "    print('obj tiene el valor', None)\n",
    "else:\n",
    "    print('obj tiene valor')"
   ]
  },
  {
   "cell_type": "markdown",
   "metadata": {},
   "source": [
    "# Ejercicios\n",
    "\n",
    "1. Escriba un retazo de código que decida e indique si un número es par, impar múltiplo de 3 o impar no múltiplo de 3.  \n",
    "1. Encuentre el primer número natural n para el que su potencia de 100 es menor que su factorial.\n",
    "1. Escriba todos los números de Fibonacci menores que un valor dado.\n",
    "1. Usando `for` escriba un retazo de código que calcule el factorial de un número natural n.\n",
    "1. Usando `while` escriba un retazo de código que calcule el factorial de un número natural n."
   ]
  }
 ],
 "metadata": {
  "kernelspec": {
   "display_name": "Python 3",
   "language": "python",
   "name": "python3"
  },
  "language_info": {
   "codemirror_mode": {
    "name": "ipython",
    "version": 3
   },
   "file_extension": ".py",
   "mimetype": "text/x-python",
   "name": "python",
   "nbconvert_exporter": "python",
   "pygments_lexer": "ipython3",
   "version": "3.6.8"
  }
 },
 "nbformat": 4,
 "nbformat_minor": 2
}
