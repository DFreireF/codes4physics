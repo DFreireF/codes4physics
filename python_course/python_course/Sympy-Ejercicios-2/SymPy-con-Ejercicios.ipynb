{
 "cells": [
  {
   "cell_type": "markdown",
   "metadata": {},
   "source": [
    "# Matemática simbólica  con Sympy\n",
    "\n",
    "Autor: Pedro González Rodelas\n",
    "\n",
    "Fecha de la primera versión: 28/09/2018\n",
    "\n",
    "Sucesivas revisiones: 30/09, 20/10, 13 y 20/11/2018\n",
    "\n",
    "Fecha de la última revisión: 05/02/2019\n",
    "\n",
    "\n",
    "[Sympy](http://www.sympy.org/en/index.html) suele describirse como:\n",
    "\n",
    "> \"... un módulo o librería de Python para la matemática simbólica.\"\n",
    "\n",
    "Esto significa que puede usarse para:\n",
    "\n",
    "- Manipular expresiones simbólicas;\n",
    "- Resolver ecuaciones e inecuaciones simbólicas de manera exacta;\n",
    "- Llevar a cabo cálculos simbólicos;\n",
    "- Dibujar funciones definidas de manera simbólica.\n",
    "\n",
    "Por supuesto que también tiene otras muchas capacidades en las que no entraremos en este notebook, pero que podrán consultarse en la ayuda online de este módulo: http://www.sympy.org/en/index.html"
   ]
  },
  {
   "cell_type": "markdown",
   "metadata": {},
   "source": [
    "Hay dos sistemas de álgebra computacional (CAS, de Computer Algebra Systems en inglés) para Python:\n",
    "\n",
    "* [SymPy](http://sympy.org/en/index.html) - Un módulo python que se puede usar en cualquier  programa Python, o dentro de una sesión IPython, que a su vez proporciona otras poderosas herramientas CAS.\n",
    "* [Sage](http://www.sagemath.org/) - Sage es también otro poderoso entorno CAS, completamente equipado, cuyo objetivo es proporcionar un sistema de código abierto capaz de competir con Mathematica y Maple. Sin embargo Sage no se puede considerar un módulo de Python propiamente dicho, sino más bien un entorno CAS independiente que usa Python como su lenguaje programación.\n",
    "\n",
    "Sage es en cierto sentido más potente que SymPy, pero ambos ofrecen una funcionalidad CAS bastante completa. La ventaja de SymPy es precisamente el hecho de ser un módulo regular de Python, que a su vez puede integrarse bien dentro de cualquier notebook de IPython como este.\n",
    "\n",
    "Así pues, en esta presentación pondremos en práctica el uso del paquete SymPy dentro de notebooks IPython. Si usted también está interesado en otros entornos CAS de código abierto también estaría recomendado leer e investigar algo más sobre Sage.\n",
    "\n",
    "Para empezar a usar SymPy en un programa o notebook de Python, deberemos empezar por importar el módulo `sympy`:"
   ]
  },
  {
   "cell_type": "markdown",
   "metadata": {},
   "source": [
    "## Manipulando expresiones algebraicas de manera simbólica\n",
    "\n",
    "Antes de que podamos empezar a usar este módulo (o librería/biblioteca) para manipular cualquier tipo de expresión, necesitaremos importarlo."
   ]
  },
  {
   "cell_type": "code",
   "execution_count": null,
   "metadata": {},
   "outputs": [],
   "source": [
    "# Existen diferentes posibilidades de importar este o cualquier otro módulo de Python\n",
    "# import sympy as sym    # ésta sería una de las más estandard en este caso concreto\n",
    "# import sympy as sp     # ésta sería otra de las formas habituales de hacerlo\n",
    "from sympy import * # y esta sería la manera de cargar todo el módulo entero e incorporar todas\n",
    "# sus funciones y procedimientos en el llamado 'espacio de nombres de nuestra sesión'"
   ]
  },
  {
   "cell_type": "markdown",
   "metadata": {},
   "source": [
    "Así pues, dependiendo de la manera en la que se haya importado el módulo habrá que anteponer el prefijo del correspondiente pseudónimo o no."
   ]
  },
  {
   "cell_type": "markdown",
   "metadata": {},
   "source": [
    "Por otro lado, cuando queremos que Python opere con cierta expresión simbólica, como por ejemplo la expresión trivial $x - x = 0$ (sea cual sea el símbolo $x$), obtendríamos un error si previamente no le indicamos a Python que $x$ realmente se trata de un símbolo. Lo mismo tendremos que hacer con cualquier símbolo que aparezca en cualquiera de las expresiones algebraicas con las que vayamos a trabajar."
   ]
  },
  {
   "cell_type": "code",
   "execution_count": null,
   "metadata": {},
   "outputs": [],
   "source": [
    "#  x - x   esto sin más dará una excepción o mensaje de error si no tenemos definida la \n",
    "# variable x como un símbolo, como haremos justo a continuación"
   ]
  },
  {
   "cell_type": "markdown",
   "metadata": {},
   "source": [
    "Y para eso Sympy tiene pues una forma concreta de indicarle a Python justo eso, que $x$ es una  variable simbólica:"
   ]
  },
  {
   "cell_type": "code",
   "execution_count": null,
   "metadata": {},
   "outputs": [],
   "source": [
    "x = Symbol('x')  # otra opción sería  x = symbols('x') que admite varias variables a la vez"
   ]
  },
  {
   "cell_type": "markdown",
   "metadata": {},
   "source": [
    "Ya sí que podemos calcular $x - x$ con propiedad:"
   ]
  },
  {
   "cell_type": "code",
   "execution_count": null,
   "metadata": {},
   "outputs": [],
   "source": [
    "x - x"
   ]
  },
  {
   "cell_type": "markdown",
   "metadata": {},
   "source": [
    "De esta manera ya podemos crear y manipular expresiones simbólicas en Sympy. Verifiquemos por ejemplo que:\n",
    "\n",
    "$$(a + b) ^ 2 = a ^ 2 + 2ab + b ^2$$\n",
    "\n",
    "Para ello, en primer lugar deberemos crear las variables simbólicas $a, b$:"
   ]
  },
  {
   "cell_type": "code",
   "execution_count": null,
   "metadata": {},
   "outputs": [],
   "source": [
    "a, b = symbols('a, b')"
   ]
  },
  {
   "cell_type": "markdown",
   "metadata": {},
   "source": [
    "y a continuación construimos una de las expresiones de la igualdad que queremos verificar:"
   ]
  },
  {
   "cell_type": "code",
   "execution_count": null,
   "metadata": {},
   "outputs": [],
   "source": [
    "expr1 = (a + b) ** 2 \n",
    "expr"
   ]
  },
  {
   "cell_type": "code",
   "execution_count": null,
   "metadata": {},
   "outputs": [],
   "source": [
    "expr2 = a**2 + 2*a*b + b**2\n",
    "expr2"
   ]
  },
  {
   "cell_type": "code",
   "execution_count": null,
   "metadata": {},
   "outputs": [],
   "source": [
    "expr1 == expr2"
   ]
  },
  {
   "cell_type": "markdown",
   "metadata": {},
   "source": [
    "**Nótese** que en todo momento también podemos hacer que Sympy devuelva dicha expresión formateada como lo haría un compilador de $\\LaTeX$, de manera que la salida correspondiente dentro del notebook sea lo más bonita y elegante posible:"
   ]
  },
  {
   "cell_type": "code",
   "execution_count": null,
   "metadata": {},
   "outputs": [],
   "source": [
    "init_printing()      # esta sería la forma de indicárselo a SymPy"
   ]
  },
  {
   "cell_type": "code",
   "execution_count": null,
   "metadata": {},
   "outputs": [],
   "source": [
    "expr1"
   ]
  },
  {
   "cell_type": "markdown",
   "metadata": {},
   "source": [
    "También podremos en cualquier momento obtener la forma $\\LaTeX$ de nuestra expresión "
   ]
  },
  {
   "cell_type": "code",
   "execution_count": null,
   "metadata": {},
   "outputs": [],
   "source": [
    "latex(expr1)   # esta sería la manera de obtener la expresión LaTeX correspondiente"
   ]
  },
  {
   "cell_type": "markdown",
   "metadata": {},
   "source": [
    "Ahora procederemos a expandir nuestra expresión:"
   ]
  },
  {
   "cell_type": "code",
   "execution_count": null,
   "metadata": {},
   "outputs": [],
   "source": [
    "expand(expr1)"
   ]
  },
  {
   "cell_type": "markdown",
   "metadata": {},
   "source": [
    "Equivalentemente podríamos escribir simplemente"
   ]
  },
  {
   "cell_type": "code",
   "execution_count": null,
   "metadata": {},
   "outputs": [],
   "source": [
    "expr1.expand()"
   ]
  },
  {
   "cell_type": "markdown",
   "metadata": {},
   "source": [
    "gracias a que como `expr` es una expresión simbólica, automáticamente Python interpreta que el procedimiento que se aplica a continuación debe estar dentro de SymPy"
   ]
  },
  {
   "cell_type": "markdown",
   "metadata": {},
   "source": [
    "Nótese que también podemos conseguir que Sympy produzca el correspondiente código $\\LaTeX$ por si lo necesitáramos en el futuro:"
   ]
  },
  {
   "cell_type": "code",
   "execution_count": null,
   "metadata": {},
   "outputs": [],
   "source": [
    "latex(expr1.expand())"
   ]
  },
  {
   "cell_type": "markdown",
   "metadata": {},
   "source": [
    "Sigamos operando con expresiones de tipo simbólico de la manera habitual. Para ello, recuerde tener definidas como símbolos cualquier variable que aparezca en dichas expresiones con las que vamos a trabajar."
   ]
  },
  {
   "cell_type": "code",
   "execution_count": null,
   "metadata": {},
   "outputs": [],
   "source": [
    "c = symbols('c')  # recuérdese que ya teníamos definidos 'a' y 'b' como símbolos\n",
    "a + 2*a + 7*b + 5*c - 3*b"
   ]
  },
  {
   "cell_type": "code",
   "execution_count": null,
   "metadata": {},
   "outputs": [],
   "source": [
    "exp(log(x))   # vemos aquí como obtenemos la función identidad \n",
    "# al componer una función con su inversa respecto a la composición de funciones"
   ]
  },
  {
   "cell_type": "code",
   "execution_count": null,
   "metadata": {},
   "outputs": [],
   "source": [
    "log(exp(x)).simplify() # sin embargo vemos que en este caso no llega a realizar \n",
    "# dicha simplificación, ni siquiera pidiéndoselo expresamente. "
   ]
  },
  {
   "cell_type": "code",
   "execution_count": null,
   "metadata": {},
   "outputs": [],
   "source": [
    "# Más adelante veremos cómo se puede solucionar ésto\n",
    "x = Symbol('x', real = True)  # especificando que la variable 'x' es de tipo real.\n",
    "log(exp(x))"
   ]
  },
  {
   "cell_type": "code",
   "execution_count": null,
   "metadata": {},
   "outputs": [],
   "source": [
    "expr = sqrt(x**2)*exp(x+log(x))\n",
    "expr"
   ]
  },
  {
   "cell_type": "code",
   "execution_count": null,
   "metadata": {},
   "outputs": [],
   "source": [
    "x = Symbol('x', positive = True)  # especificando ahora que la variable 'x' es positivo."
   ]
  },
  {
   "cell_type": "code",
   "execution_count": null,
   "metadata": {},
   "outputs": [],
   "source": [
    "x > 0"
   ]
  },
  {
   "cell_type": "code",
   "execution_count": null,
   "metadata": {},
   "outputs": [],
   "source": [
    "expr.expand()"
   ]
  },
  {
   "cell_type": "code",
   "execution_count": null,
   "metadata": {},
   "outputs": [],
   "source": [
    "sqrt(x**2)"
   ]
  },
  {
   "cell_type": "markdown",
   "metadata": {},
   "source": [
    "## Trabajando con expresiones trigonométricas y de tipo fraccionario"
   ]
  },
  {
   "cell_type": "code",
   "execution_count": null,
   "metadata": {},
   "outputs": [],
   "source": [
    "x, y = symbols('x, y')  # aquí definiremos una expresión polinómica de dos variables\n",
    "expr = x + x*y + 4*x*y**2 + 8*y*x - 7*y*x**2 + 2*x**2*y + x**3*y**2\n",
    "expr                    # y esta sería su forma final simplificada"
   ]
  },
  {
   "cell_type": "code",
   "execution_count": null,
   "metadata": {},
   "outputs": [],
   "source": [
    "# si ahora quisiéramos expresarla en potencias crecientes de alguna de sus variables\n",
    "collect(expr,x),collect(expr,y)   # usaremos la orden 'collect'"
   ]
  },
  {
   "cell_type": "code",
   "execution_count": null,
   "metadata": {},
   "outputs": [],
   "source": [
    "expand((x+y)**10)  # Así expandiríamos la expresión indicada\n"
   ]
  },
  {
   "cell_type": "code",
   "execution_count": null,
   "metadata": {},
   "outputs": [],
   "source": [
    "factor(_)         # y de esta manera volveríamos a factorizar la expresión anterior"
   ]
  },
  {
   "cell_type": "code",
   "execution_count": null,
   "metadata": {},
   "outputs": [],
   "source": [
    "# Ahora trabajaremos con una función fraccionaria de varias variables\n",
    "numerador = x**3 + 3*x**2 + 3*x + 1\n",
    "denominador = x**2 + 2*x +1\n",
    "funcfrac = numerador/denominador\n",
    "funcfrac"
   ]
  },
  {
   "cell_type": "code",
   "execution_count": null,
   "metadata": {},
   "outputs": [],
   "source": [
    "cancel(funcfrac)   # para cancelar los posibles factores comunes"
   ]
  },
  {
   "cell_type": "code",
   "execution_count": null,
   "metadata": {},
   "outputs": [],
   "source": [
    "factor(numerador), factor(denominador)  # para comprobar cuáles son esos factores"
   ]
  },
  {
   "cell_type": "code",
   "execution_count": null,
   "metadata": {},
   "outputs": [],
   "source": [
    "simplify(funcfrac)    # otra forma de simplificar dicha función racional"
   ]
  },
  {
   "cell_type": "code",
   "execution_count": null,
   "metadata": {},
   "outputs": [],
   "source": [
    "numerador =  3*x**2 + 8*x + 2\n",
    "denominador = x**2 - 5*x + 6\n",
    "funcfrac = numerador/denominador\n",
    "funcfrac"
   ]
  },
  {
   "cell_type": "code",
   "execution_count": null,
   "metadata": {},
   "outputs": [],
   "source": [
    "apart(funcfrac)   # de esta manera obtendríamos las fracciones simples"
   ]
  },
  {
   "cell_type": "code",
   "execution_count": null,
   "metadata": {},
   "outputs": [],
   "source": [
    "together(_)      # y así podríamos volver a recomponer la fracción original"
   ]
  },
  {
   "cell_type": "code",
   "execution_count": null,
   "metadata": {},
   "outputs": [],
   "source": [
    "factor(denominador)    # para factorizar el denominador"
   ]
  },
  {
   "cell_type": "code",
   "execution_count": null,
   "metadata": {},
   "outputs": [],
   "source": [
    "factor(numerador)    # y ahora el numerador"
   ]
  },
  {
   "cell_type": "markdown",
   "metadata": {},
   "source": [
    "---\n",
    "**EJERCICIO** Use Sympy para verificar las siguientes expresiones:\n",
    "\n",
    "- $(a - b) ^ 2 = a ^ 2 - 2 a b + b^2$\n",
    "- $a ^ 2 - b ^ 2 = (a - b) (a + b)$ (en vez de usar `expand`, pruebe con `factor`)"
   ]
  },
  {
   "cell_type": "markdown",
   "metadata": {},
   "source": [
    "## Expresiones trignonométricas e hiperbólicas"
   ]
  },
  {
   "cell_type": "code",
   "execution_count": null,
   "metadata": {},
   "outputs": [],
   "source": [
    "# Antes de seguir veámos algunas de las opciones disponibles para la orden 'expand'\n",
    "?expand"
   ]
  },
  {
   "cell_type": "code",
   "execution_count": null,
   "metadata": {},
   "outputs": [],
   "source": [
    "expand(sin(x-y) + sin(x+y), trig =True)    # con la opción 'trig =  True'\n",
    "# vemos que realiza correctamente la operacion simbólica requerida"
   ]
  },
  {
   "cell_type": "code",
   "execution_count": null,
   "metadata": {},
   "outputs": [],
   "source": [
    "simplify(cos(x)*cos(y) + sin(x)*sin(y))  # sin embargo esto no es necesario cuando se usa\n",
    "# la orden 'simplify'"
   ]
  },
  {
   "cell_type": "code",
   "execution_count": null,
   "metadata": {},
   "outputs": [],
   "source": [
    "simplify(sin(x)**2 + cos(x)**2)   # aquí vemos otro ejempo típico de identidad trigonométrica"
   ]
  },
  {
   "cell_type": "markdown",
   "metadata": {},
   "source": [
    "---\n",
    "**EJERCICIO** Use Sympy para simplificar las siguientes expresiones trigonométricas e hiperbólicas:\n",
    "\n",
    "- $cos(x)sen(y) + cos(y)sen(x)$\n",
    "- $cos(x)cos(y) - sen(x)sen(y)$ \n",
    "- $cosh(x)ˆ2 - senh(x)ˆ2$\n",
    "- $cosh(x)cosh(y) - senh(x)senh(y)$ \n",
    "- $cos(2n\\pi)$ para $n\\in\\mathbb{N}$\n",
    "- (en vez de usar `expand`, pruebe con `factor`)"
   ]
  },
  {
   "cell_type": "markdown",
   "metadata": {},
   "source": [
    "## Manipulando y haciendo preguntas sobre expresiones simbólicas"
   ]
  },
  {
   "cell_type": "markdown",
   "metadata": {},
   "source": [
    "En el ejemplo anterior ya hemos visto también cómo podemos hacer suposiciones acerca de alguna de las variables y expresiones simbólicas con las que vamos a trabajar. En algún caso posterior también podremos indicar en qué conjunto de números queremos resolver cierta ecuación o inecuación. Vamos ahora a indagar un poco más en el aspecto del tipo de manipulación que queremos realizar con las expresiones con las que trabajemos, así como a tener la capacidad de sustituir una variable o expresión por otras, para posteriormente terminar de simplificar el resultado final."
   ]
  },
  {
   "cell_type": "code",
   "execution_count": null,
   "metadata": {},
   "outputs": [],
   "source": [
    "m = Symbol('m', integer = True, positive = False)\n",
    "m.is_integer, m.is_positive, m.is_real  \n",
    "# Nótese que el conjunto de los números enteros está incluido en el de los números reales."
   ]
  },
  {
   "cell_type": "code",
   "execution_count": null,
   "metadata": {},
   "outputs": [],
   "source": [
    "ω = Symbol('ω', real = True)\n",
    "ω.is_real, ω.is_integer, ω.is_positive "
   ]
  },
  {
   "cell_type": "code",
   "execution_count": null,
   "metadata": {},
   "outputs": [],
   "source": [
    "x = Symbol('x')  # Aquí la variable 'x' es de cualquier tipo, no necesariamente un número real,\n",
    "Q = sqrt(x**2)   # y vemos cómo por defecto no puede realizar simplificación alguna en general.\n",
    "Q"
   ]
  },
  {
   "cell_type": "code",
   "execution_count": null,
   "metadata": {},
   "outputs": [],
   "source": [
    "x = Symbol('x', real = True) # Sin embargo, especificando que 'x' es real al menos puede \n",
    "Q = sqrt(x**2)  # reproducir la definición del valor absoluto para este tipo de números.\n",
    "Q "
   ]
  },
  {
   "cell_type": "code",
   "execution_count": null,
   "metadata": {},
   "outputs": [],
   "source": [
    "x = Symbol('x', real = True, positive = True) # E incluso si indicamos que además es positivo\n",
    "sqrt(x**2)   # pues obtiene la composición de dos funciones inversas para ese dominio concreto."
   ]
  },
  {
   "cell_type": "code",
   "execution_count": null,
   "metadata": {},
   "outputs": [],
   "source": [
    "x = Symbol('x', real = True, positive = False) # Y tampoco tiene problema si trabajamos con\n",
    "sqrt(x**2)   # la otra rama de la funcíon valor absoluto, en el caso de los números negativos."
   ]
  },
  {
   "cell_type": "markdown",
   "metadata": {},
   "source": [
    "## Realizando sustituciones en expresiones simbólicas"
   ]
  },
  {
   "cell_type": "code",
   "execution_count": null,
   "metadata": {},
   "outputs": [],
   "source": [
    "# Para empezar definimos los símbolos y el tipo de variables que usaremos, \n",
    "a, b, c = symbols('a,b,c')\n",
    "k       = symbols('k', integer = True, positive = True)\n",
    "expr = c**k  # y esta será la expresión concreta con la que vamos a trabajar."
   ]
  },
  {
   "cell_type": "code",
   "execution_count": null,
   "metadata": {},
   "outputs": [],
   "source": [
    "expr.subs({c: a+b})  # y esta sería la manera de realizar una sustitución concreta: \n",
    "# la variable o símbolo 'c' se ha sustituido por la expresión simbólica 'a+b'"
   ]
  },
  {
   "cell_type": "code",
   "execution_count": null,
   "metadata": {},
   "outputs": [],
   "source": [
    "_.subs({k:2})  # y ahora sustituiremos 'k' por el número '2' en la expresión anterior."
   ]
  },
  {
   "cell_type": "code",
   "execution_count": null,
   "metadata": {},
   "outputs": [],
   "source": [
    "expand(_)      # para expandir finalmente el resultado anterior."
   ]
  },
  {
   "cell_type": "code",
   "execution_count": null,
   "metadata": {},
   "outputs": [],
   "source": [
    "expr.subs({c: a-b}).subs({k:3})  # aquí tendríamos otro ejemplo parecido, \n",
    "#  sólo que ahora con 'a-b' y '3'."
   ]
  },
  {
   "cell_type": "code",
   "execution_count": null,
   "metadata": {},
   "outputs": [],
   "source": [
    "expand(_)    # y he aquí el resultado final expandido en este caso."
   ]
  },
  {
   "cell_type": "code",
   "execution_count": null,
   "metadata": {},
   "outputs": [],
   "source": [
    "print(_)   # si quisiéramos la versión manejable (para reutilizarla o pegarla en otro lado) \n",
    "# del resultado anterior, una opción perfectamente válida podría ser hacer un 'print(_)'."
   ]
  },
  {
   "cell_type": "code",
   "execution_count": null,
   "metadata": {},
   "outputs": [],
   "source": [
    "x,y = symbols('x,y')  # Ahora haremos exactamente lo mismo, pero con las variables 'x, y'\n",
    "expr.subs({c: x+y}).subs({k:3})"
   ]
  },
  {
   "cell_type": "code",
   "execution_count": null,
   "metadata": {},
   "outputs": [],
   "source": [
    "expand(_)"
   ]
  },
  {
   "cell_type": "code",
   "execution_count": null,
   "metadata": {},
   "outputs": [],
   "source": [
    "print(_)  # y copiaremos esta expresión final  obtenida, para pegarla justo abajo"
   ]
  },
  {
   "cell_type": "code",
   "execution_count": null,
   "metadata": {},
   "outputs": [],
   "source": [
    "f = x**3 + 3*x**2*y + 3*x*y**2 + y**3  # para definir una función de dos variables 'x' e 'y'"
   ]
  },
  {
   "cell_type": "code",
   "execution_count": null,
   "metadata": {},
   "outputs": [],
   "source": [
    "f.subs({x:1}), f.subs({y:2})  # Así podriamos evaluar en cada una de las variables cada vez"
   ]
  },
  {
   "cell_type": "code",
   "execution_count": null,
   "metadata": {},
   "outputs": [],
   "source": [
    "f.subs({x:1, y:2})   # y así evaluaríamos una expresión de dos variables a la vez"
   ]
  },
  {
   "cell_type": "markdown",
   "metadata": {},
   "source": [
    "##  Cálculando límites\n",
    "\n",
    "Por supuesto que también podemos usar Sympy para calcular límites. Calculemos por ejemplo:\n",
    "\n",
    "$$\\lim_{x\\to 0^+}\\frac{1}{x}$$"
   ]
  },
  {
   "cell_type": "code",
   "execution_count": null,
   "metadata": {},
   "outputs": [],
   "source": [
    "limit(1/x, x, 0, dir=\"+\")  # Nótese la manera de indicar el límite direccional por la derecha."
   ]
  },
  {
   "cell_type": "markdown",
   "metadata": {},
   "source": [
    "---\n",
    "**EJERCICIO** Calcule los límites siguientes:\n",
    "\n",
    "1. $\\lim_{x\\to 0^-}\\frac{1}{x}$\n",
    "2.  $\\lim_{x\\to 0}\\frac{1}{x^2}$\n",
    "\n",
    "---"
   ]
  },
  {
   "cell_type": "markdown",
   "metadata": {},
   "source": [
    "## Sumas y productos"
   ]
  },
  {
   "cell_type": "code",
   "execution_count": null,
   "metadata": {},
   "outputs": [],
   "source": [
    "n = Symbol('n')\n",
    "Sum(1/n**2,(n,1,10))"
   ]
  },
  {
   "cell_type": "code",
   "execution_count": null,
   "metadata": {},
   "outputs": [],
   "source": [
    "_.evalf()"
   ]
  },
  {
   "cell_type": "code",
   "execution_count": null,
   "metadata": {},
   "outputs": [],
   "source": [
    "Sum(1/n**2,(n,1,oo)).evalf()"
   ]
  },
  {
   "cell_type": "code",
   "execution_count": null,
   "metadata": {},
   "outputs": [],
   "source": [
    "Product(n,(n,1,10))    # 10!"
   ]
  },
  {
   "cell_type": "code",
   "execution_count": null,
   "metadata": {},
   "outputs": [],
   "source": [
    "_.evalf()"
   ]
  },
  {
   "cell_type": "markdown",
   "metadata": {},
   "source": [
    "##  Calculando derivadas e integrales de manera simbólica"
   ]
  },
  {
   "cell_type": "markdown",
   "metadata": {},
   "source": [
    "Ahora usaremos Sympy para derivar e integrar. Experimentemos primero derivando la siguiente expresión:\n",
    "\n",
    "$$x ^ 2 - \\cos(x)$$"
   ]
  },
  {
   "cell_type": "code",
   "execution_count": null,
   "metadata": {},
   "outputs": [],
   "source": [
    "?diff"
   ]
  },
  {
   "cell_type": "code",
   "execution_count": null,
   "metadata": {},
   "outputs": [],
   "source": [
    "diff(x ** 2 - cos(x), x)"
   ]
  },
  {
   "cell_type": "code",
   "execution_count": null,
   "metadata": {},
   "outputs": [],
   "source": [
    "_.subs({x:1})   # y así simplemente evaluaríamos dicha derivada en el punto x = 1"
   ]
  },
  {
   "cell_type": "markdown",
   "metadata": {},
   "source": [
    "Similarmente podemos integrarla:"
   ]
  },
  {
   "cell_type": "code",
   "execution_count": null,
   "metadata": {},
   "outputs": [],
   "source": [
    "integrate(x ** 2 - cos(x), x)"
   ]
  },
  {
   "cell_type": "markdown",
   "metadata": {},
   "source": [
    "Y si necesitamos calcular integrales definidas :"
   ]
  },
  {
   "cell_type": "code",
   "execution_count": null,
   "metadata": {},
   "outputs": [],
   "source": [
    "integrate(x ** 2 - cos(x), (x, 0, 5))"
   ]
  },
  {
   "cell_type": "markdown",
   "metadata": {},
   "source": [
    "A continuación experimentaremos derivando diferentes composiciones de funciones usando la conocida regla de la cadena para la derivación."
   ]
  },
  {
   "cell_type": "code",
   "execution_count": null,
   "metadata": {},
   "outputs": [],
   "source": [
    "f, g, h = symbols(' f, g, h', cls = Function)"
   ]
  },
  {
   "cell_type": "code",
   "execution_count": null,
   "metadata": {},
   "outputs": [],
   "source": [
    "f(g(h(x))), h(g(f(x)))"
   ]
  },
  {
   "cell_type": "code",
   "execution_count": null,
   "metadata": {},
   "outputs": [],
   "source": [
    "diff(f(g(h(x))),x)"
   ]
  },
  {
   "cell_type": "markdown",
   "metadata": {},
   "source": [
    "---\n",
    "\n",
    "**EJERCICIOS** Use Sympy para calcular:\n",
    "\n",
    "1. $\\frac{d\\sin(x ^2)}{dx}$\n",
    "2. $\\frac{d(x ^2 + xy - \\ln(y))}{dy}$\n",
    "3. $\\int e^x \\cos(x)\\;dx$\n",
    "4. $\\int_0^5 e^{2x}\\;dx$"
   ]
  },
  {
   "cell_type": "markdown",
   "metadata": {},
   "source": [
    "# Series de potencias"
   ]
  },
  {
   "cell_type": "code",
   "execution_count": null,
   "metadata": {},
   "outputs": [],
   "source": [
    "series(exp(x),x)"
   ]
  },
  {
   "cell_type": "code",
   "execution_count": null,
   "metadata": {},
   "outputs": [],
   "source": [
    "series(exp(x),x,1)"
   ]
  },
  {
   "cell_type": "code",
   "execution_count": null,
   "metadata": {},
   "outputs": [],
   "source": [
    "series(exp(x),x,1,10)"
   ]
  },
  {
   "cell_type": "code",
   "execution_count": null,
   "metadata": {},
   "outputs": [],
   "source": [
    "s1 = cos(x).series(x,0,5)\n",
    "s1"
   ]
  },
  {
   "cell_type": "code",
   "execution_count": null,
   "metadata": {},
   "outputs": [],
   "source": [
    "s2 = sin(x).series(x,0,2)\n",
    "s2"
   ]
  },
  {
   "cell_type": "code",
   "execution_count": null,
   "metadata": {},
   "outputs": [],
   "source": [
    "expand(s1*s2)"
   ]
  },
  {
   "cell_type": "code",
   "execution_count": null,
   "metadata": {},
   "outputs": [],
   "source": [
    "expand(s1.removeO()*s2.removeO())"
   ]
  },
  {
   "cell_type": "code",
   "execution_count": null,
   "metadata": {},
   "outputs": [],
   "source": [
    "(cos(x)*sin(x)).series(x,0,6)"
   ]
  },
  {
   "cell_type": "markdown",
   "metadata": {},
   "source": [
    "## Dibujando con Sympy\n",
    "\n",
    "Finalmente veremos que también Sympy nos puede servir para dibujar funciones. Para ello haremos uso del módulo por excelencia para dibujar con Python, que se llama [matplotlib](http://matplotlib.org/). Y aunque en principio también SymPy podría realizar gráficos de funciones directamente, sin hacer uso de `matplotlib`, se recomienda usarlo ya que este módulo de dibujo con Python es de lo más potente y versátil, como ya tendrá oportunidad de comprobar si mira su [documentación](https://matplotlib.org/contents.html) o la [galería](https://matplotlib.org/gallery/index.html) de gráficos disponibles\n",
    "\n",
    "\n",
    "Pero antes de poder visualizar via Jupyter estos gráficos necesitaremos correr cierto comando para que éstos aparezcan en línea, incrustados en el propio notebook, y no en una ventana emergente:"
   ]
  },
  {
   "cell_type": "code",
   "execution_count": null,
   "metadata": {},
   "outputs": [],
   "source": [
    "%matplotlib inline"
   ]
  },
  {
   "cell_type": "markdown",
   "metadata": {},
   "source": [
    "Dibujemos simplemente $x^2$:"
   ]
  },
  {
   "cell_type": "code",
   "execution_count": null,
   "metadata": {},
   "outputs": [],
   "source": [
    "?plot"
   ]
  },
  {
   "cell_type": "code",
   "execution_count": null,
   "metadata": {
    "tags": [
     "nbval-ignore-output"
    ]
   },
   "outputs": [],
   "source": [
    "x = Symbol('x')\n",
    "expr = x ** 2\n",
    "grafica1 = plot(expr );"
   ]
  },
  {
   "cell_type": "markdown",
   "metadata": {},
   "source": [
    "Nótese, que por defecto se ha tomado el intervalo $[-10,10]$ para dicha representación.  "
   ]
  },
  {
   "cell_type": "code",
   "execution_count": null,
   "metadata": {},
   "outputs": [],
   "source": [
    "grafica2 = plot(expr,(x,0,5), line_color = 'red');"
   ]
  },
  {
   "cell_type": "code",
   "execution_count": null,
   "metadata": {},
   "outputs": [],
   "source": [
    "grafica1.show(), grafica2.show();"
   ]
  },
  {
   "cell_type": "code",
   "execution_count": null,
   "metadata": {},
   "outputs": [],
   "source": [
    "plot((x,(x,-10,10)),(expr,(x,0,5)), line_color = 'green');"
   ]
  },
  {
   "cell_type": "code",
   "execution_count": null,
   "metadata": {},
   "outputs": [],
   "source": [
    "plot((x**2,(x,-6,6)),(x,(x,-2,2)));"
   ]
  },
  {
   "cell_type": "code",
   "execution_count": null,
   "metadata": {
    "tags": [
     "nbval-ignore-output"
    ]
   },
   "outputs": [],
   "source": [
    "grafica1.save(\"parabola.pdf\");\n",
    "grafica2.save(\"semiparabola.pdf\");"
   ]
  },
  {
   "cell_type": "code",
   "execution_count": null,
   "metadata": {},
   "outputs": [],
   "source": [
    "ls *.pdf"
   ]
  },
  {
   "cell_type": "markdown",
   "metadata": {},
   "source": [
    "---\n",
    "**EJERCICIO** Dibuje las siguientes funciones:\n",
    "\n",
    "- $y=x + cos(x)$\n",
    "- $y=x ^ 2 - e^x$ (aquí se podría usar `ylim` como un argumento útil; consultar la documentación)\n",
    "\n",
    "Experimente también con varios dominios de definición, opciones gráficas y distintos formatos de fichero a la hora de grabar los correspondientes gráficos.\n",
    "\n",
    "---\n",
    "\n"
   ]
  },
  {
   "cell_type": "markdown",
   "metadata": {},
   "source": [
    "## Resolviendo ecuaciones simbólicamente "
   ]
  },
  {
   "cell_type": "markdown",
   "metadata": {},
   "source": [
    "Podemos usar también Sympy para resolver ecuaciones de manera simbólica. Por ejemplo, busquemos la solución en $x$ de la ecuación cuadrática:\n",
    "\n",
    "$$a x ^ 2 + b x + c = 0$$"
   ]
  },
  {
   "cell_type": "code",
   "execution_count": null,
   "metadata": {},
   "outputs": [],
   "source": [
    "# Ya teníamos definidos como símbolos todas estas variables, pero por estar seguros, haremos\n",
    "a, b, c, x = symbols('a, b, c, x')  "
   ]
  },
  {
   "cell_type": "markdown",
   "metadata": {},
   "source": [
    "Los comandos de Sympy para resolver ecuaciones son `solve` y `solveset`. En ambas, siempre el primer argumento es una expresión para la que vamos a buscar las raíces o soluciones, y el segundo argumento es la variable simbólica en la que vamos a resolver dicha ecuación."
   ]
  },
  {
   "cell_type": "code",
   "execution_count": null,
   "metadata": {},
   "outputs": [],
   "source": [
    "solve(a * x ** 2 + b * x + c, x)"
   ]
  },
  {
   "cell_type": "code",
   "execution_count": null,
   "metadata": {},
   "outputs": [],
   "source": [
    "solveset(a * x ** 2 + b * x + c, x)"
   ]
  },
  {
   "cell_type": "code",
   "execution_count": null,
   "metadata": {},
   "outputs": [],
   "source": [
    "x, y = symbols(' x y')\n",
    "solve([x**2 + y**2 -1, x**2-y**2-S(1)/2], x,y)   # S(1) es el símbolo del número 1"
   ]
  },
  {
   "cell_type": "code",
   "execution_count": null,
   "metadata": {},
   "outputs": [],
   "source": [
    "solve([x**2 + y**2 -1, x**2-y**2-1/2], x,y) # Nótese ahora la diferencia"
   ]
  },
  {
   "cell_type": "code",
   "execution_count": null,
   "metadata": {},
   "outputs": [],
   "source": [
    "1, S(1)  # Aparentemente son lo mismo"
   ]
  },
  {
   "cell_type": "code",
   "execution_count": null,
   "metadata": {},
   "outputs": [],
   "source": [
    "S(1)+4   # De hecho se puede operar con él como si nada"
   ]
  },
  {
   "cell_type": "code",
   "execution_count": null,
   "metadata": {},
   "outputs": [],
   "source": [
    "S(1)/S(2), 1/2  # Nótese ahora la diferencia claramente"
   ]
  },
  {
   "cell_type": "markdown",
   "metadata": {},
   "source": [
    "---\n",
    "**EJERCICIO** Use ahora Sympy para encontrar las soluciones de la ecuación genérica de grado 3:\n",
    "\n",
    "$$a x ^ 3 + b x ^ 2 + c  x + d = 0$$\n",
    "\n",
    "---"
   ]
  },
  {
   "cell_type": "markdown",
   "metadata": {},
   "source": [
    "Es posible pasarle más argumentos a `solveset` para limitar por ejemplo el espacio de soluciones. Veámos por ejemplo cuál es son en general las soluciones de la siguiente ecuación:  $$x^2=-1$$\n",
    "y posteriormente busquemos más concretamente sólo las que estén en $\\mathbb{R}$ "
   ]
  },
  {
   "cell_type": "code",
   "execution_count": null,
   "metadata": {},
   "outputs": [],
   "source": [
    "solveset(x ** 2 + 1, x)"
   ]
  },
  {
   "cell_type": "code",
   "execution_count": null,
   "metadata": {},
   "outputs": [],
   "source": [
    "solveset(x ** 2 + 1, x, domain=S.Reals)"
   ]
  },
  {
   "cell_type": "markdown",
   "metadata": {},
   "source": [
    "---\n",
    "**EJERCICIO** Use Sympy para encontrar las soluciones de las siguientes ecuaciones:\n",
    "\n",
    "- $x ^ 2 == 2$ en $\\mathbb{N}$;\n",
    "- $x ^ 3 + 2 x = 0$ en $\\mathbb{R}$.\n",
    "\n",
    "---"
   ]
  },
  {
   "cell_type": "markdown",
   "metadata": {},
   "source": [
    "Nótese que gráficamente también se pueden resolver ecuaciones, al menos de manera aproximada, como se verá en su momento empleando los métodos numéricos apropiados. Pero bastaría con emplear el conocido teorema de Bolzado para funciones contínuas que afirma que una función $f$ contínua en un intervalo real $[a,b]\\subset\\mathbb{R}$ que tome valores de signo opuesto en los extremos del mismo $f(a)f(b)<0$ , deberá de cortar al eje $Ox$ al menos una vez en el interior de dicho intervalo; es decir $\\exists s\\in ]a,b[$ de manera que  $f(s)=0$."
   ]
  },
  {
   "cell_type": "code",
   "execution_count": null,
   "metadata": {},
   "outputs": [],
   "source": [
    "plot(x ** 3 +2*x,(x,-1,1));  # Ahora podríamos ir acotando dicha raíz cada vez más,  \n",
    "# reduciendo dicho intervalo, pero siempre asegurándonos que haya cambio de signo en los  \n",
    "# extremos del mismo. Esta es la base del método de bisección y otros métodos numéricos."
   ]
  },
  {
   "cell_type": "markdown",
   "metadata": {},
   "source": [
    "## Resolviendo inecuaciones"
   ]
  },
  {
   "cell_type": "markdown",
   "metadata": {},
   "source": [
    "Vamos ahora a trabajar con desigualdades como la siguiente $\\{x: x^2 > 4 \\}$"
   ]
  },
  {
   "cell_type": "code",
   "execution_count": null,
   "metadata": {},
   "outputs": [],
   "source": [
    "    plot(x**2,4,(x,-3,3))"
   ]
  },
  {
   "cell_type": "code",
   "execution_count": null,
   "metadata": {},
   "outputs": [],
   "source": [
    "solve_univariate_inequality(x**2 > 4,x)"
   ]
  },
  {
   "cell_type": "code",
   "execution_count": null,
   "metadata": {},
   "outputs": [],
   "source": [
    "    plot(x**2,4,(x,-2,2))"
   ]
  },
  {
   "cell_type": "markdown",
   "metadata": {},
   "source": [
    "# Definiendo y analizando funciones reales de variable real"
   ]
  },
  {
   "cell_type": "code",
   "execution_count": null,
   "metadata": {},
   "outputs": [],
   "source": [
    "f = 1/(1+x**2)   # Definiendo la función a analizar"
   ]
  },
  {
   "cell_type": "code",
   "execution_count": null,
   "metadata": {},
   "outputs": [],
   "source": [
    "f.subs(x,1)"
   ]
  },
  {
   "cell_type": "code",
   "execution_count": null,
   "metadata": {},
   "outputs": [],
   "source": [
    "diff(f,x)"
   ]
  },
  {
   "cell_type": "code",
   "execution_count": null,
   "metadata": {},
   "outputs": [],
   "source": [
    "plot(f,(x,-5,5))"
   ]
  },
  {
   "cell_type": "code",
   "execution_count": null,
   "metadata": {},
   "outputs": [],
   "source": [
    "limit(f,x,-oo),limit(f,x,oo)"
   ]
  },
  {
   "cell_type": "code",
   "execution_count": null,
   "metadata": {},
   "outputs": [],
   "source": [
    "f.subs(x,0)"
   ]
  },
  {
   "cell_type": "code",
   "execution_count": null,
   "metadata": {},
   "outputs": [],
   "source": [
    "series(f,x0 = 0, n = 9)"
   ]
  },
  {
   "cell_type": "code",
   "execution_count": null,
   "metadata": {},
   "outputs": [],
   "source": [
    "integrate(f,x)"
   ]
  },
  {
   "cell_type": "code",
   "execution_count": null,
   "metadata": {},
   "outputs": [],
   "source": [
    "integrate(f,(x,-oo,oo))"
   ]
  },
  {
   "cell_type": "code",
   "execution_count": null,
   "metadata": {},
   "outputs": [],
   "source": [
    "fourier_transform(f,x,z)"
   ]
  },
  {
   "cell_type": "code",
   "execution_count": null,
   "metadata": {},
   "outputs": [],
   "source": [
    "[f.subs(x,t) for t in range(-2,3)]"
   ]
  },
  {
   "cell_type": "markdown",
   "metadata": {},
   "source": [
    "## Trabajando con matrices simbólicas"
   ]
  },
  {
   "cell_type": "code",
   "execution_count": null,
   "metadata": {},
   "outputs": [],
   "source": [
    "x = symbols('x1:3') # Esta sería la manera de generar una \n",
    "x  # variable simbólica vectorial, con las componentes deseadas.\n",
    "# Aquí también habrá que tener en cuenta que en Python, por defecto,\n",
    "# el primer índice siempre empezaría en 0, si no se especifica otra \n",
    "# cosa, y que el límite superior indicado no llega a alcanzarse."
   ]
  },
  {
   "cell_type": "code",
   "execution_count": null,
   "metadata": {},
   "outputs": [],
   "source": [
    "A = symbols('a1:3(1:4)')  # De esta manera podemos generar una colección de simbolos indizados\n",
    "A                         # en forma de tupla, inicialmente."
   ]
  },
  {
   "cell_type": "code",
   "execution_count": null,
   "metadata": {},
   "outputs": [],
   "source": [
    "A = Matrix(reshape(A,[3]))  # a posteriori, con la orden 'reshape' podemos darle forma de matriz\n",
    "b = Matrix(symbols('b1:4')) # o definir directamente un vector, con 4 componentes en este caso."
   ]
  },
  {
   "cell_type": "code",
   "execution_count": null,
   "metadata": {},
   "outputs": [],
   "source": [
    "A,b  # Vemos ahora cómo han quedado definidas estas variables matriciales y/o vectoriales."
   ]
  },
  {
   "cell_type": "code",
   "execution_count": null,
   "metadata": {},
   "outputs": [],
   "source": [
    "A.T, b.T     # de esta forma podremos obtener fácilmente la matriz o el vector traspuesto."
   ]
  },
  {
   "cell_type": "code",
   "execution_count": null,
   "metadata": {},
   "outputs": [],
   "source": [
    "A*A.T  # y realizar el producto matricial con el simple asterisco '*' \n",
    "# (siempre que las dimensiones sean las apropiadas)"
   ]
  },
  {
   "cell_type": "code",
   "execution_count": null,
   "metadata": {},
   "outputs": [],
   "source": [
    "A*b  # este sería el producto matricial de 'A' por el vector 'b'. "
   ]
  },
  {
   "cell_type": "code",
   "execution_count": null,
   "metadata": {},
   "outputs": [],
   "source": [
    "(b.T)*A.T  # y este el producto del traspuesto de 'b' por la matriz traspuesta de 'A'\n",
    "# (nótese que las dimensiones también son compatibles en este caso)."
   ]
  },
  {
   "cell_type": "code",
   "execution_count": null,
   "metadata": {},
   "outputs": [],
   "source": [
    "# Veámos qué podemos hacer también en el caso de matrices cuadradas;\n",
    "A = Matrix(reshape(symbols('a1:3(1:3)') ,[2])) # por ejemplo con una de orden 2\n",
    "A"
   ]
  },
  {
   "cell_type": "code",
   "execution_count": null,
   "metadata": {},
   "outputs": [],
   "source": [
    "A**2"
   ]
  },
  {
   "cell_type": "code",
   "execution_count": null,
   "metadata": {},
   "outputs": [],
   "source": [
    "A.det()   #  Aquí obtenemos simbólicamente su determinante"
   ]
  },
  {
   "cell_type": "code",
   "execution_count": null,
   "metadata": {},
   "outputs": [],
   "source": [
    "A.inv()   # y aquí su inversa, donde vemos claramente que va a existir y estar bien definida\n",
    "# siempre que el determinante sea no nula, ya que aparece en los denominadores."
   ]
  },
  {
   "cell_type": "code",
   "execution_count": null,
   "metadata": {},
   "outputs": [],
   "source": [
    "?linsolve"
   ]
  },
  {
   "cell_type": "code",
   "execution_count": null,
   "metadata": {},
   "outputs": [],
   "source": [
    "A,b"
   ]
  },
  {
   "cell_type": "markdown",
   "metadata": {},
   "source": [
    "En cuanto a la resolución simbólica de sistemas de ecuaciones lineales, una posibilidad sería definir adecuadamente tanto la matriz de coeficientes, el vector de términos independientes, así como una lista de incógnitas (todo ello con las dimensiones adecuadas) y usar la orden 'linsolve' que pertenece al submódulo 'linalg' dentro del módulo 'SymPy'.  "
   ]
  },
  {
   "cell_type": "code",
   "execution_count": null,
   "metadata": {},
   "outputs": [],
   "source": [
    "?linsolve # Veámos primero una pequeña ayuda de cómo funciona esta interesante orden "
   ]
  },
  {
   "cell_type": "code",
   "execution_count": null,
   "metadata": {},
   "outputs": [],
   "source": [
    "b = Matrix(symbols('b1:3'))       # aquí definimos el vector de términos independientes\n",
    "incogs = Matrix(symbols('x1:3'))  # y aquí el vector de incógnitas\n",
    "linsolve((A,b),incogs)            # para finalizar con la resolución del sistema lineal."
   ]
  },
  {
   "cell_type": "markdown",
   "metadata": {},
   "source": [
    "---\n",
    "**EJERCICIO** Ahora sería un buen momento para usar Sympy para resolver simbólicamente un sistema lineal genérico de 3 ecuaciones con 3 incógnitas.\n",
    "\n",
    "\n",
    "---"
   ]
  },
  {
   "cell_type": "markdown",
   "metadata": {
    "collapsed": true
   },
   "source": [
    "## Resumen\n",
    "\n",
    "En esta sección hemos discutido cómo se puede usar Sympy para:\n",
    "\n",
    "- Manipular expresiones simbólicas;\n",
    "- Calcular límites, derivadas e integrales;\n",
    "- Dibujar expresiones simbólicas.  \n",
    "- Resolver simbólicamente tanto ecuaciones no lineales, como sistemas de ecuaciones lineales.\n",
    "    \n",
    "Pero esto no es más que una pequeña parte de lo que Sympy puede hacer."
   ]
  },
  {
   "cell_type": "markdown",
   "metadata": {},
   "source": [
    "## Cálculo aproximado con SymPy"
   ]
  },
  {
   "cell_type": "code",
   "execution_count": null,
   "metadata": {},
   "outputs": [],
   "source": [
    "2 + 3 , 2. + 3"
   ]
  },
  {
   "cell_type": "code",
   "execution_count": null,
   "metadata": {},
   "outputs": [],
   "source": [
    "1/4, Rational(1,4)"
   ]
  },
  {
   "cell_type": "code",
   "execution_count": null,
   "metadata": {},
   "outputs": [],
   "source": [
    "pi/2"
   ]
  },
  {
   "cell_type": "code",
   "execution_count": null,
   "metadata": {},
   "outputs": [],
   "source": [
    "N(pi/2)"
   ]
  },
  {
   "cell_type": "code",
   "execution_count": null,
   "metadata": {},
   "outputs": [],
   "source": [
    "N(pi/2, 4)"
   ]
  },
  {
   "cell_type": "code",
   "execution_count": null,
   "metadata": {},
   "outputs": [],
   "source": [
    "N(exp(1),100)"
   ]
  },
  {
   "cell_type": "markdown",
   "metadata": {},
   "source": [
    "## Cálculo aproximado con el módulo decimal"
   ]
  },
  {
   "cell_type": "code",
   "execution_count": null,
   "metadata": {},
   "outputs": [],
   "source": [
    "from decimal import *"
   ]
  },
  {
   "cell_type": "code",
   "execution_count": null,
   "metadata": {},
   "outputs": [],
   "source": [
    "getcontext()"
   ]
  },
  {
   "cell_type": "code",
   "execution_count": null,
   "metadata": {},
   "outputs": [],
   "source": [
    "Decimal(1)/Decimal(7)"
   ]
  },
  {
   "cell_type": "code",
   "execution_count": null,
   "metadata": {},
   "outputs": [],
   "source": [
    "getcontext().prec = 6\n",
    "Decimal(1)/Decimal(7)"
   ]
  },
  {
   "cell_type": "code",
   "execution_count": null,
   "metadata": {},
   "outputs": [],
   "source": [
    "Decimal(2).sqrt()"
   ]
  },
  {
   "cell_type": "code",
   "execution_count": null,
   "metadata": {},
   "outputs": [],
   "source": [
    "Decimal(1).exp()"
   ]
  },
  {
   "cell_type": "code",
   "execution_count": null,
   "metadata": {},
   "outputs": [],
   "source": [
    "Decimal(10).ln()"
   ]
  },
  {
   "cell_type": "code",
   "execution_count": null,
   "metadata": {},
   "outputs": [],
   "source": [
    "Decimal(10).log10()"
   ]
  },
  {
   "cell_type": "code",
   "execution_count": null,
   "metadata": {},
   "outputs": [],
   "source": [
    "Decimal(7.325).quantize(Decimal('0.01'), rounding = ROUND_DOWN)"
   ]
  },
  {
   "cell_type": "code",
   "execution_count": null,
   "metadata": {},
   "outputs": [],
   "source": [
    "Decimal(7.325).quantize(Decimal('0.01'), rounding = ROUND_UP)"
   ]
  },
  {
   "cell_type": "code",
   "execution_count": null,
   "metadata": {},
   "outputs": [],
   "source": [
    "Decimal(7.325).quantize(Decimal('0.1'), rounding = ROUND_DOWN)"
   ]
  },
  {
   "cell_type": "code",
   "execution_count": null,
   "metadata": {},
   "outputs": [],
   "source": [
    "Decimal(7.325).quantize(Decimal('0.1'), rounding = ROUND_UP)"
   ]
  },
  {
   "cell_type": "code",
   "execution_count": null,
   "metadata": {},
   "outputs": [],
   "source": [
    "Decimal(7.325)"
   ]
  },
  {
   "cell_type": "code",
   "execution_count": null,
   "metadata": {},
   "outputs": [],
   "source": [
    "data = list(map(Decimal, '1.34 1.87 3.45 2.35 1.00 0.03 9.25'.split()))\n",
    "data"
   ]
  },
  {
   "cell_type": "code",
   "execution_count": null,
   "metadata": {},
   "outputs": [],
   "source": [
    "max(data)"
   ]
  },
  {
   "cell_type": "code",
   "execution_count": null,
   "metadata": {},
   "outputs": [],
   "source": [
    "min(data)"
   ]
  },
  {
   "cell_type": "code",
   "execution_count": null,
   "metadata": {},
   "outputs": [],
   "source": [
    "sorted(data)"
   ]
  },
  {
   "cell_type": "code",
   "execution_count": null,
   "metadata": {},
   "outputs": [],
   "source": [
    "sum(data)"
   ]
  },
  {
   "cell_type": "code",
   "execution_count": null,
   "metadata": {},
   "outputs": [],
   "source": [
    "a , b = data[0], data[1]"
   ]
  },
  {
   "cell_type": "code",
   "execution_count": null,
   "metadata": {},
   "outputs": [],
   "source": [
    "a,b"
   ]
  },
  {
   "cell_type": "code",
   "execution_count": null,
   "metadata": {},
   "outputs": [],
   "source": [
    "a + b"
   ]
  },
  {
   "cell_type": "code",
   "execution_count": null,
   "metadata": {},
   "outputs": [],
   "source": [
    "a*b"
   ]
  },
  {
   "cell_type": "code",
   "execution_count": null,
   "metadata": {},
   "outputs": [],
   "source": [
    "str(a)"
   ]
  },
  {
   "cell_type": "code",
   "execution_count": null,
   "metadata": {},
   "outputs": [],
   "source": [
    "float(a)"
   ]
  },
  {
   "cell_type": "code",
   "execution_count": null,
   "metadata": {},
   "outputs": [],
   "source": [
    "int(a), round(a)"
   ]
  },
  {
   "cell_type": "code",
   "execution_count": null,
   "metadata": {},
   "outputs": [],
   "source": [
    "round(a,1),round(a,3)"
   ]
  },
  {
   "cell_type": "code",
   "execution_count": null,
   "metadata": {},
   "outputs": [],
   "source": [
    "getcontext()"
   ]
  },
  {
   "cell_type": "code",
   "execution_count": null,
   "metadata": {},
   "outputs": [],
   "source": [
    "getcontext().prec = 3\n",
    "a*b"
   ]
  },
  {
   "cell_type": "code",
   "execution_count": null,
   "metadata": {},
   "outputs": [],
   "source": [
    "getcontext().prec = 2\n",
    "a*b"
   ]
  },
  {
   "cell_type": "code",
   "execution_count": null,
   "metadata": {},
   "outputs": [],
   "source": [
    "getcontext().prec = 1\n",
    "a*b"
   ]
  },
  {
   "cell_type": "markdown",
   "metadata": {},
   "source": [
    "## Versiones"
   ]
  },
  {
   "cell_type": "code",
   "execution_count": null,
   "metadata": {},
   "outputs": [],
   "source": [
    "%reload_ext version_information\n",
    "\n",
    "%version_information numpy, matplotlib, sympy"
   ]
  },
  {
   "cell_type": "code",
   "execution_count": null,
   "metadata": {},
   "outputs": [],
   "source": []
  }
 ],
 "metadata": {
  "anaconda-cloud": {},
  "kernelspec": {
   "display_name": "Python 3",
   "language": "python",
   "name": "python3"
  },
  "language_info": {
   "codemirror_mode": {
    "name": "ipython",
    "version": 3
   },
   "file_extension": ".py",
   "mimetype": "text/x-python",
   "name": "python",
   "nbconvert_exporter": "python",
   "pygments_lexer": "ipython3",
   "version": "3.7.4"
  }
 },
 "nbformat": 4,
 "nbformat_minor": 1
}
