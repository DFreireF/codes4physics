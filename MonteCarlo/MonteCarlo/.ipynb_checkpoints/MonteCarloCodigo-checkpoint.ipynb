{
 "cells": [
  {
   "cell_type": "code",
   "execution_count": 2,
   "metadata": {},
   "outputs": [
    {
     "data": {
      "image/png": "[encoded data removed]",
      "text/plain": [
       "<Figure size 432x288 with 1 Axes>"
      ]
     },
     "metadata": {
      "needs_background": "light"
     },
     "output_type": "display_data"
    }
   ],
   "source": [
    "from math import exp, sqrt\n",
    "from random import random, seed\n",
    "import numpy as np\n",
    "import matplotlib.pyplot as plt\n",
    "from matplotlib.ticker import LinearLocator, FormatStrFormatter\n",
    "import sys\n",
    "\n",
    "#FUncion prueba\n",
    "def WF(r,alfa):\n",
    "    r1 = r[0,0]**2 #+ r[0,1]**2+r[0,2]**2\n",
    "    r2=r[1,0]**2 + r[1,1]**2+r[1,2]**2\n",
    "    return  exp(-alfa*(r1+r2)/2.0)\n",
    "\n",
    "#Energía local\n",
    "def ELocal(r,alfa):\n",
    "    r1 = r[0,0]**2 + r[0,1]**2+r[0,2]**2\n",
    "    r2=r[1,0]**2 + r[1,1]**2+r[1,2]**2\n",
    "    return 0.5*((r1+r2)*(-alfa*alfa+1)+alfa)\n",
    "\n",
    "# Monte Carlo\n",
    "def MonteCarlo():\n",
    "\n",
    "    Nciclos= 20250\n",
    "    Paso = 1\n",
    "    # posiciones\n",
    "    PosicionVieja = np.zeros((NW,Dimension), np.double)\n",
    "    PsocionNueva = np.zeros((NW,Dimension), np.double)\n",
    "    seed()\n",
    "    # Parametro variacional\n",
    "    alfa = 0.9\n",
    "    for ia in range(Variaciones):\n",
    "        alfa += .1\n",
    "        alfaValues[ia] = alfa\n",
    "        energia = 0.0\n",
    "        energia2 = 0.0\n",
    "        DeltaE = 0.0\n",
    "        #Posiciones inicales\n",
    "        for i in range(NW):\n",
    "            for j in range(Dimension):\n",
    "                PosicionVieja[i,j] = Paso*(random() - .5)\n",
    "        wfold = WF(PosicionVieja,alfa)\n",
    "\n",
    "\n",
    "        for MCci in range(Nciclos):\n",
    "            if (MCci<Nciclos/2): #termalizacion\n",
    "                energia=0.0\n",
    "                energia2=0.0\n",
    "                aux=0\n",
    "            aux=aux+1\n",
    "\n",
    "            for i in range(NW):\n",
    "                for j in range(Dimension):\n",
    "                    PsocionNueva[i,j] = PosicionVieja[i,j]+Paso*(random()-.5)\n",
    "            wfnew = WF(PsocionNueva,alfa)\n",
    "\n",
    "            #Metropolis\n",
    "            if random() < wfnew**2/wfold**2:\n",
    "                PosicionVieja= PsocionNueva.copy()\n",
    "                wfold = wfnew\n",
    "            DeltaE = ELocal(PosicionVieja,alfa)\n",
    "            energia += DeltaE\n",
    "            energia2 += DeltaE**2\n",
    "\n",
    "        #Media, varianza, error\n",
    "        energia /= aux\n",
    "        energia2 /= aux\n",
    "        varianza = energia2-energia**2\n",
    "        error[ia] = sqrt(varianza/aux)\n",
    "        Energias[ia] = energia    \n",
    "    return Energias, alfaValues,PosicionVieja,error\n",
    "\n",
    "\n",
    "NParticulas = 2\n",
    "NW=10\n",
    "Dimension = 3\n",
    "Variaciones = 1\n",
    "Energias = np.zeros((Variaciones,Variaciones))\n",
    "alfaValues = np.zeros(Variaciones)\n",
    "error = np.zeros(Variaciones)\n",
    "(Energias, alfaValues,PosicionVieja,error) = MonteCarlo()\n",
    "\n",
    "#ploteamos\n",
    "plt.plot(alfaValues,Energias,'.-r')\n",
    "plt.show()\n"
   ]
  },
  {
   "cell_type": "code",
   "execution_count": 59,
   "metadata": {},
   "outputs": [
    {
     "data": {
      "image/png": "[encoded data removed]",
      "text/plain": [
       "<Figure size 432x288 with 1 Axes>"
      ]
     },
     "metadata": {},
     "output_type": "display_data"
    }
   ],
   "source": [
    "fig = plt.figure()\n",
    "plt.style.use('seaborn-whitegrid')\n",
    "plt.errorbar(AlphaValues,Energiess,yerr=error,fmt='.-k')\n",
    "plt.xlabel(\"Alfa\")\n",
    "plt.ylabel(\"Energía (u.a.)\")\n",
    "plt.savefig('Ealga.png')\n",
    "plt.show()"
   ]
  },
  {
   "cell_type": "code",
   "execution_count": 52,
   "metadata": {},
   "outputs": [],
   "source": [
    "Energiess=[0.52944167,0.51950762,0.50228262,0.5,0.50134405,0.50743167]"
   ]
  },
  {
   "cell_type": "code",
   "execution_count": null,
   "metadata": {},
   "outputs": [],
   "source": [
    "from math import exp, sqrt\n",
    "from random import random, seed\n",
    "import numpy as np\n",
    "import matplotlib.pyplot as plt\n",
    "from mpl_toolkits.mplot3d import Axes3D\n",
    "from matplotlib import cm\n",
    "from matplotlib.ticker import LinearLocator, FormatStrFormatter\n",
    "import sys\n",
    "\n",
    "#FUncion prueba\n",
    "def WF(r,alfa):\n",
    "    r1 = r[0,0]**2# + r[0,1]**2\n",
    "    return  exp(-alfa*r1/2.0)\n",
    "\n",
    "#Energía local\n",
    "def ELocal(r,alfa):\n",
    "    r1 = r[0,0]**2# + r[0,1]**2\n",
    "    return 0.5*(r1*(-alfa*alfa+1)+alfa)\n",
    "def BoxMuller(u1,u2,sigma,mu):\n",
    "    z1 = np.sqrt(-2*np.log(u1))*np.cos(2*np.pi*u2)\n",
    "    z2 = np.sqrt(-2*np.log(u1))*np.sin(2*np.pi*u2)\n",
    "    #Devolvemos z1 por ejemplo en su forma general\n",
    "    return z1*sigma+mu\n",
    "# Monte Carlo\n",
    "def MonteCarlo():\n",
    "\n",
    "    Nciclos= 202500\n",
    "    Paso = 1\n",
    "    # posiciones\n",
    "    PosicionVieja = np.zeros((NW,Dimension), np.double)\n",
    "    PsocionNueva = np.zeros((NW,Dimension), np.double)\n",
    "    seed()\n",
    "    # Parametro variacional\n",
    "    alfa = 0.6\n",
    "    for ia in range(Variaciones):\n",
    "        alfa += .1\n",
    "        alfaValues[ia] = alfa\n",
    "        energia = 0.0\n",
    "        energia2 = 0.0\n",
    "        DeltaE = 0.0\n",
    "        #Posiciones inicales\n",
    "        for i in range(NW):\n",
    "            for j in range(Dimension):\n",
    "                PosicionVieja[i,j] = BoxMuller(u1,u2,1,0)\n",
    "        wfold = WF(PosicionVieja,alfa)\n",
    "\n",
    "\n",
    "        for MCci in range(Nciclos):\n",
    "            if (MCci<Nciclos/2): #termalizacion\n",
    "                energia=0.0\n",
    "                energia2=0.0\n",
    "                aux=0\n",
    "            aux=aux+1\n",
    "\n",
    "            for i in range(NW):\n",
    "                for j in range(Dimension):\n",
    "                    PsocionNueva[i,j] = PosicionVieja[i,j]+BoxMuller(u1,u2,1,0)\n",
    "            wfnew = WF(PsocionNueva,alfa)\n",
    "\n",
    "            DeltaE = ELocal(PosicionVieja,alfa)\n",
    "            energia += DeltaE\n",
    "            energia2 += DeltaE**2\n",
    "\n",
    "        #Media, varianza, error\n",
    "        energia /= aux\n",
    "        energia2 /= aux\n",
    "        varianza = energia2-energia**2\n",
    "        error[ia] = sqrt(varianza/aux)\n",
    "        Energias[ia] = energia    \n",
    "    return Energias, alfaValues,PosicionVieja,error\n",
    "\n",
    "NParticulas = 1\n",
    "NW=500\n",
    "Dimension = 1\n",
    "Variaciones = 6\n",
    "Energias = np.zeros((Variaciones,Variaciones))\n",
    "alfaValues = np.zeros(Variaciones)\n",
    "error = np.zeros(Variaciones)\n",
    "(Energias, alfaValues,PosicionVieja,error) = MonteCarlo()\n",
    "\n",
    "#ploteamos\n",
    "plt.plot(alfaValues,Energias,'.-r')\n",
    "plt.show()\n"
   ]
  },
  {
   "cell_type": "code",
   "execution_count": 29,
   "metadata": {},
   "outputs": [
    {
     "data": {
      "image/png": "[encoded data removed]",
      "text/plain": [
       "<Figure size 432x288 with 1 Axes>"
      ]
     },
     "metadata": {},
     "output_type": "display_data"
    }
   ],
   "source": [
    "fig = plt.figure()\n",
    "plt.style.use('seaborn-whitegrid')\n",
    "plt.plot(AlphaValues,Energies,'.-r')\n",
    "plt.xlabel(\"Alfa\")\n",
    "plt.ylabel(\"Energía (u.a.)\")\n",
    "plt.savefig('Ealga2.png')\n",
    "plt.show()"
   ]
  },
  {
   "cell_type": "code",
   "execution_count": 34,
   "metadata": {},
   "outputs": [
    {
     "data": {
      "image/png": "[encoded data removed]",
      "text/plain": [
       "<Figure size 432x288 with 1 Axes>"
      ]
     },
     "metadata": {
      "needs_background": "light"
     },
     "output_type": "display_data"
    }
   ],
   "source": [
    "plt.hist(PositionOld, density=1, bins=200, histtype='bar', facecolor='r')\n",
    "plt.xlabel(\"Posición (u.a.)\")\n",
    "plt.ylabel(\"Frecuencia relativa\")\n",
    "plt.title(\"Muestreo de la función de onda para $a=1$, $N=1$, $d=1$ y 5000 caminantes\")\n",
    "plt.savefig(\"MC-histo.png\")"
   ]
  },
  {
   "cell_type": "code",
   "execution_count": 13,
   "metadata": {},
   "outputs": [],
   "source": [
    "import sympy as sp\n",
    "a,x = sp.symbols('a,x', positive=True)\n",
    "def f(x):\n",
    "    return ((a/sp.pi)**(1/4)*sp.exp(-0.5*a*x**2))**2*0.5*(x**2*(1-a**2)+a)\n",
    "d=sp.integrate(f(x),(x,-sp.oo,sp.oo))"
   ]
  },
  {
   "cell_type": "code",
   "execution_count": 14,
   "metadata": {},
   "outputs": [
    {
     "data": {
      "text/latex": [
       "$\\displaystyle 0.25 a^{1.0} + \\frac{0.25}{a}$"
      ],
      "text/plain": [
       "0.25*a**1.0 + 0.25/a"
      ]
     },
     "execution_count": 14,
     "metadata": {},
     "output_type": "execute_result"
    }
   ],
   "source": [
    "d"
   ]
  },
  {
   "cell_type": "code",
   "execution_count": 3,
   "metadata": {},
   "outputs": [
    {
     "data": {
      "image/png": "[encoded data removed]",
      "text/plain": [
       "<Figure size 432x288 with 1 Axes>"
      ]
     },
     "metadata": {
      "needs_background": "light"
     },
     "output_type": "display_data"
    }
   ],
   "source": [
    "from math import exp, sqrt\n",
    "from random import random, seed\n",
    "import numpy as np\n",
    "import matplotlib.pyplot as plt\n",
    "from matplotlib.ticker import LinearLocator, FormatStrFormatter\n",
    "import sys\n",
    "\n",
    "#FUncion prueba\n",
    "def WF(r,alfa,NW):\n",
    "    \n",
    "    r1 = r[0,0]**2 + r[0,1]**2+r[0,2]**2\n",
    "    r2=r[1,0]**2 + r[1,1]**2+r[1,2]**2\n",
    "    return  exp(-alfa*(r1+r2)/2.0)\n",
    "\n",
    "#Energía local\n",
    "def ELocal(r,alfa):\n",
    "    r1 = r[0,0]**2 + r[0,1]**2+r[0,2]**2\n",
    "    r2=r[1,0]**2 + r[1,1]**2+r[1,2]**2\n",
    "    return 0.5*((r1+r2)*(-alfa*alfa+1)+alfa)\n",
    "\n",
    "# Monte Carlo\n",
    "def MonteCarlo():\n",
    "\n",
    "    Nciclos= 20250\n",
    "    Paso = 1\n",
    "    # posiciones\n",
    "    PosicionVieja = np.zeros((NParticulas,Dimension), np.double)\n",
    "    PsocionNueva = np.zeros((NParticulas,Dimension), np.double)\n",
    "    seed()\n",
    "    # Parametro variacional\n",
    "    alfa = 0.9\n",
    "    for ia in range(Variaciones):\n",
    "        alfa += .1\n",
    "        alfaValues[ia] = alfa\n",
    "        energia = 0.0\n",
    "        energia2 = 0.0\n",
    "        DeltaE = 0.0\n",
    "        #Posiciones inicales\n",
    "        for i in range(NParticulas):\n",
    "            for j in range(Dimension):\n",
    "                PosicionVieja[i,j] = Paso*(random() - .5)\n",
    "        wfold = WF(PosicionVieja,alfa)\n",
    "\n",
    "\n",
    "        for MCci in range(Nciclos):\n",
    "            if (MCci<Nciclos/2): #termalizacion\n",
    "                energia=0.0\n",
    "                energia2=0.0\n",
    "                aux=0\n",
    "            aux=aux+1\n",
    "            for k in range (NW)\n",
    "                for i in range(NParticulas):\n",
    "                    for j in range(Dimension):\n",
    "                        PsocionNueva[i,j] = PosicionVieja[i,j]+Paso*(random()-.5)\n",
    "                wfnew = WF(PsocionNueva,alfa)\n",
    "\n",
    "            #Metropolis\n",
    "            if random() < wfnew**2/wfold**2:\n",
    "                PosicionVieja= PsocionNueva.copy()\n",
    "                wfold = wfnew\n",
    "            DeltaE = ELocal(PosicionVieja,alfa)\n",
    "            energia += DeltaE\n",
    "            energia2 += DeltaE**2\n",
    "\n",
    "        #Media, varianza, error\n",
    "        energia /= aux\n",
    "        energia2 /= aux\n",
    "        varianza = energia2-energia**2\n",
    "        error[ia] = sqrt(varianza/aux)\n",
    "        Energias[ia] = energia    \n",
    "    return Energias, alfaValues,PosicionVieja,error\n",
    "\n",
    "\n",
    "NParticulas = 2\n",
    "NW=10\n",
    "Dimension = 3\n",
    "Variaciones = 1\n",
    "Energias = np.zeros((Variaciones,Variaciones))\n",
    "alfaValues = np.zeros(Variaciones)\n",
    "error = np.zeros(Variaciones)\n",
    "(Energias, alfaValues,PosicionVieja,error) = MonteCarlo()\n",
    "\n",
    "#ploteamos\n",
    "plt.plot(alfaValues,Energias,'.-r')\n",
    "plt.show()\n"
   ]
  },
  {
   "cell_type": "code",
   "execution_count": null,
   "metadata": {},
   "outputs": [],
   "source": []
  }
 ],
 "metadata": {
  "kernelspec": {
   "display_name": "Python 3",
   "language": "python",
   "name": "python3"
  },
  "language_info": {
   "codemirror_mode": {
    "name": "ipython",
    "version": 3
   },
   "file_extension": ".py",
   "mimetype": "text/x-python",
   "name": "python",
   "nbconvert_exporter": "python",
   "pygments_lexer": "ipython3",
   "version": "3.8.5"
  }
 },
 "nbformat": 4,
 "nbformat_minor": 4
}
